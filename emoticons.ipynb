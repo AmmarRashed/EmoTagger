{
 "cells": [
  {
   "cell_type": "markdown",
   "metadata": {},
   "source": [
    "# Emojis"
   ]
  },
  {
   "cell_type": "code",
   "execution_count": 1,
   "metadata": {},
   "outputs": [],
   "source": [
    "import re\n",
    "def clean_code_label(code, label):\n",
    "    codes = list()\n",
    "    labels = list()\n",
    "    splitted_codes = code.split(\"..\")\n",
    "    splitted_labels = label.split(\"..\")\n",
    "    for i in range(len(splitted_codes)):\n",
    "        codes.append(splitted_codes[i])\n",
    "        labels.append(splitted_labels[i])\n",
    "    return codes, labels"
   ]
  },
  {
   "cell_type": "code",
   "execution_count": 2,
   "metadata": {},
   "outputs": [],
   "source": [
    "def get_emojis_dict(emojis_path=\"emojis.txt\"):\n",
    "    with open(emojis_path, 'r') as f:\n",
    "        emojis_raw = f.read()\n",
    "    \n",
    "    emojis_dict = dict()  # {unicode: label}\n",
    "    for l in emojis_raw.split(\"\\n\"):\n",
    "        if \"; Emoji\" in l:\n",
    "            emoji_info = re.findall(r\"\\)\\s+[A-Za-z]+.+\",l)\n",
    "            try:\n",
    "                emoji_info[0]\n",
    "            except IndexError:\n",
    "                continue\n",
    "            else:\n",
    "                label_raw = re.sub(\"\\)\\s+\",\"\",emoji_info[0])\n",
    "                code_raw = l.split()[0]\n",
    "\n",
    "                codes, labels = clean_code_label(code_raw, label_raw)\n",
    "                for i in range(len(codes)):\n",
    "                    emojis_dict[codes[i]] = labels[i]\n",
    "    return emojis_dict"
   ]
  },
  {
   "cell_type": "code",
   "execution_count": 3,
   "metadata": {},
   "outputs": [],
   "source": [
    "emojis_dict = get_emojis_dict()"
   ]
  },
  {
   "cell_type": "markdown",
   "metadata": {},
   "source": [
    "# Emoticons"
   ]
  },
  {
   "cell_type": "code",
   "execution_count": 4,
   "metadata": {},
   "outputs": [],
   "source": [
    "import urllib.request as ureq\n",
    "from bs4 import BeautifulSoup\n",
    "\n",
    "def download_emoticons(url=\"https://pc.net/emoticons/\"):\n",
    "    opener = ureq.FancyURLopener({})\n",
    "    f = opener.open(url)\n",
    "    content = f.read()\n",
    "    soup = BeautifulSoup(content, \"html\")\n",
    "    emoticons_html_tags = soup.find_all(class_=\"smiley\")\n",
    "\n",
    "    emoticons_dict = dict()\n",
    "    for t in emoticons_html_tags:\n",
    "        label = t.a.attrs[\"href\"].split(\"/\")[1]\n",
    "        emoticons_dict[t.text] = label\n",
    "    return emoticons_dict"
   ]
  },
  {
   "cell_type": "code",
   "execution_count": 5,
   "metadata": {},
   "outputs": [
    {
     "name": "stderr",
     "output_type": "stream",
     "text": [
      "/usr/local/lib/python3.5/dist-packages/ipykernel_launcher.py:5: DeprecationWarning: FancyURLopener style of invoking requests is deprecated. Use newer urlopen functions/methods\n",
      "  \"\"\"\n",
      "/usr/local/lib/python3.5/dist-packages/bs4/__init__.py:181: UserWarning: No parser was explicitly specified, so I'm using the best available HTML parser for this system (\"lxml\"). This usually isn't a problem, but if you run this code on another system, or in a different virtual environment, it may use a different parser and behave differently.\n",
      "\n",
      "The code that caused this warning is on line 184 of the file /usr/lib/python3.5/runpy.py. To get rid of this warning, change code that looks like this:\n",
      "\n",
      " BeautifulSoup(YOUR_MARKUP})\n",
      "\n",
      "to this:\n",
      "\n",
      " BeautifulSoup(YOUR_MARKUP, \"lxml\")\n",
      "\n",
      "  markup_type=markup_type))\n"
     ]
    }
   ],
   "source": [
    "emoticons_dict = download_emoticons()"
   ]
  },
  {
   "cell_type": "code",
   "execution_count": 6,
   "metadata": {},
   "outputs": [],
   "source": [
    "import json"
   ]
  },
  {
   "cell_type": "code",
   "execution_count": 7,
   "metadata": {},
   "outputs": [],
   "source": [
    "# json.dump({\"emojis\":emojis_dict, \"emoticons\":emoticons_dict},\n",
    "#           open(\"e_labels.json\",\"w\"),\n",
    "#           ensure_ascii=False)"
   ]
  },
  {
   "cell_type": "code",
   "execution_count": 8,
   "metadata": {},
   "outputs": [],
   "source": [
    "e_labels = json.load(open(\"e_labels.json\",\"r\"))\n",
    "emojis_dict = e_labels[\"emojis\"]\n",
    "emoticons_dict = e_labels[\"emoticons\"]"
   ]
  },
  {
   "cell_type": "code",
   "execution_count": 9,
   "metadata": {},
   "outputs": [],
   "source": [
    "tags_dict = emojis_dict\n",
    "tags_dict.update(emoticons_dict)"
   ]
  },
  {
   "cell_type": "code",
   "execution_count": 10,
   "metadata": {},
   "outputs": [
    {
     "data": {
      "text/plain": [
       "74"
      ]
     },
     "execution_count": 10,
     "metadata": {},
     "output_type": "execute_result"
    }
   ],
   "source": [
    "len(emoticons_dict)"
   ]
  },
  {
   "cell_type": "code",
   "execution_count": 11,
   "metadata": {},
   "outputs": [],
   "source": [
    "import copy"
   ]
  },
  {
   "cell_type": "code",
   "execution_count": 12,
   "metadata": {},
   "outputs": [],
   "source": [
    "tags_dict = copy.deepcopy(emoticons_dict)\n",
    "tags_dict.update(emojis_dict)"
   ]
  },
  {
   "cell_type": "code",
   "execution_count": 13,
   "metadata": {},
   "outputs": [],
   "source": [
    "class Node(object):\n",
    "    def __init__(self, char: str):\n",
    "        self.char = char\n",
    "        self.children = list()\n",
    "        self.tag = None\n",
    "        self.counter = 1  # number of words having this character\n",
    "\n",
    "\n",
    "def add(root, emotic: str, tag: str):\n",
    "    node = root\n",
    "    for char in emotic:\n",
    "        in_child = False\n",
    "        # is the character in any of the children of that node?\n",
    "        for child in node.children:\n",
    "            if child.char == char:\n",
    "                child.counter += 1\n",
    "                node = child  # the current node now is the child\n",
    "                in_child = True\n",
    "                break\n",
    "\n",
    "        # the character not in any of the children\n",
    "        # create a new child\n",
    "        if not in_child:\n",
    "            new_node = Node(char)\n",
    "            node.children.append(new_node)\n",
    "\n",
    "            node = new_node\n",
    "    node.tag = tag  # this is the last character in the word, specify its tag\n",
    "\n",
    "root = Node(\"\")\n",
    "for emot, tag in tags_dict.items():\n",
    "    add(root, emot, tag)"
   ]
  },
  {
   "cell_type": "code",
   "execution_count": 14,
   "metadata": {},
   "outputs": [],
   "source": [
    "import pickle"
   ]
  },
  {
   "cell_type": "code",
   "execution_count": 15,
   "metadata": {},
   "outputs": [],
   "source": [
    "pickle.dump(root, open(\"emoticons_trie.pkl\", \"wb\"))"
   ]
  },
  {
   "cell_type": "code",
   "execution_count": 16,
   "metadata": {},
   "outputs": [],
   "source": [
    "root = pickle.load(open(\"emoticons_trie.pkl\",\"rb\"))"
   ]
  },
  {
   "cell_type": "code",
   "execution_count": 17,
   "metadata": {},
   "outputs": [],
   "source": [
    "def get_emoticon_tag(token:str):\n",
    "    node = root\n",
    "    tag = None\n",
    "\n",
    "    for i in range(len(token)):\n",
    "        char = token[i]\n",
    "        in_children = False\n",
    "        for c in node.children:\n",
    "            if char == c.char:\n",
    "                node = c\n",
    "                tag = node.tag\n",
    "                in_children = True\n",
    "                break\n",
    "        if not in_children:\n",
    "            break\n",
    "    return tag"
   ]
  },
  {
   "cell_type": "code",
   "execution_count": 18,
   "metadata": {},
   "outputs": [],
   "source": [
    "def generate_tagged_text(text:str):\n",
    "    generate_tag = lambda tag,emoticon: \"<emoticon type={}>{}</emoticon>\".format(tag,emoticon)\n",
    "    tokens = text.split()\n",
    "\n",
    "    tagged_tokens = copy.deepcopy(tokens)\n",
    "    for i,token in enumerate(tokens):\n",
    "        tag = get_emoticon_tag(token.upper())  # Emojis codes are all upper case\n",
    "        if tag:\n",
    "            tagged_tokens[i] = generate_tag(tag, token)\n",
    "        else:\n",
    "            tag = get_emoticon_tag(token)\n",
    "            if tag:\n",
    "                tagged_tokens[i] = generate_tag(tag, token)\n",
    "    return \" \".join(tagged_tokens)"
   ]
  },
  {
   "cell_type": "code",
   "execution_count": 19,
   "metadata": {},
   "outputs": [],
   "source": [
    "## used for unittesting\n",
    "def is_emot(self, txt:str):\n",
    "    is_emot = False\n",
    "    if txt in self.tags_dict:\n",
    "        is_emot = True\n",
    "    else:\n",
    "        for t in self.tags_dict:\n",
    "            if t in txt and t[0] == txt[0]:\n",
    "                is_emot = True\n",
    "    return is_emot"
   ]
  },
  {
   "cell_type": "code",
   "execution_count": 20,
   "metadata": {},
   "outputs": [
    {
     "data": {
      "text/plain": [
       "'I will always find it funny \\uf04a. Lol <emoticon type=smile>:)))))).</emoticon> However it is not so funny for my girlfriend :-O . Anyway, I love her <emoticon type=love><3</emoticon>'"
      ]
     },
     "execution_count": 20,
     "metadata": {},
     "output_type": "execute_result"
    }
   ],
   "source": [
    "generate_tagged_text(\"I will always find it funny . Lol :)))))). However it is not so funny for my girlfriend :-O . Anyway, I love her <3\")"
   ]
  },
  {
   "cell_type": "code",
   "execution_count": 21,
   "metadata": {},
   "outputs": [
    {
     "data": {
      "text/plain": [
       "False"
      ]
     },
     "execution_count": 21,
     "metadata": {},
     "output_type": "execute_result"
    }
   ],
   "source": [
    "\"uF04A\" in tags_dict"
   ]
  }
 ],
 "metadata": {
  "kernelspec": {
   "display_name": "Python 3",
   "language": "python",
   "name": "python3"
  },
  "language_info": {
   "codemirror_mode": {
    "name": "ipython",
    "version": 3
   },
   "file_extension": ".py",
   "mimetype": "text/x-python",
   "name": "python",
   "nbconvert_exporter": "python",
   "pygments_lexer": "ipython3",
   "version": "3.5.2"
  }
 },
 "nbformat": 4,
 "nbformat_minor": 2
}
